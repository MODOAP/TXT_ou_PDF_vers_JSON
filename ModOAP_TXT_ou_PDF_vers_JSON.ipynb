{
  "nbformat": 4,
  "nbformat_minor": 0,
  "metadata": {
    "colab": {
      "name": "ModOAP_TXT_ou_PDF_vers_JSON.ipynb",
      "provenance": [],
      "collapsed_sections": []
    },
    "kernelspec": {
      "name": "python3",
      "display_name": "Python 3"
    }
  },
  "cells": [
    {
      "cell_type": "markdown",
      "metadata": {
        "id": "BtX0j8CxDAnf"
      },
      "source": [
        "# ModOAP - Conversions de fichiers txt ou pdf au format json (segmentation des blocs de texte)\n",
        "\n",
        "Ce carnet propose de convertir le texte de fichiers TXT ou PDF (océrisés) contenus dans un dossier source en fichiers structurés au format JSON.\n",
        "\n",
        "Pour chaque fichier, le résultat est un fichier au format JSON créé dans le dossier de destination, comportant le texte du fichier initial segmenté en blocs. "
      ]
    },
    {
      "cell_type": "code",
      "metadata": {
        "id": "-BeEGPWrvRu4",
        "cellView": "form"
      },
      "source": [
        "#@markdown ### Synchronisation d'un compte Google Drive :\n",
        "#@markdown ##### Lancer cette cellule, puis cliquer sur le lien généré par Google et copier/coller le code si demandé\n",
        "import os\n",
        "from google.colab import drive\n",
        "\n",
        "if not os.path.exists(\"/content/drive/MyDrive/\") :\n",
        "  drive.mount('/content/drive/')\n",
        "\n",
        "try :\n",
        "  import fitz  # this is pymupdf\n",
        "except ModuleNotFoundError :\n",
        "  !pip -q install pymupdf\n",
        "  import fitz\n",
        "\n",
        "import re\n",
        "import json\n",
        "import glob\n",
        "\n"
      ],
      "execution_count": null,
      "outputs": []
    },
    {
      "cell_type": "code",
      "metadata": {
        "cellView": "form",
        "id": "QVUymuSyrZxh",
        "colab": {
          "base_uri": "https://localhost:8080/"
        },
        "outputId": "d7171a0c-7323-4e20-ca33-9003ea8e0d9e"
      },
      "source": [
        "\n",
        "#@markdown ### Entrez le chemin du dossier contenant les fichiers txt ou pdf :\n",
        "source_dir = \"\" #@param {type:\"string\"}\n",
        "\n",
        "#@markdown Possibilité de copier/coller le chemin depuis la fenêtre de gauche : onglet \"Fichiers\" -> clic droit sur un dossier -> \"Copier le chemin\"\n",
        "\n",
        "#@markdown Exemple de chemin:\n",
        "#@markdown /content/drive/My Drive/fichiers/\n",
        "\n",
        "#@markdown ---\n",
        "\n",
        "#@markdown ### Entrez le chemin du dossier de destination où créer les fichiers json :\n",
        "destination_dir = \"\" #@param {type:\"string\"}\n",
        "\n",
        "#@markdown ---\n",
        "\n",
        "\n",
        "files = [fichier for fichier in glob.glob(os.path.join(source_dir,\"*.*\"))]\n",
        "\n",
        "\n",
        "if not os.path.exists(destination_dir):\n",
        "  os.mkdir(destination_dir)\n",
        "\n",
        "\n",
        "for fichier in files :\n",
        "  titre = fichier.split(\"/\")[-1]\n",
        "  titre = titre.split(\".\")[0]\n",
        "  text_blocks = {}\n",
        "\n",
        "  if fichier.endswith(\".pdf\") :\n",
        "    contenus_pages = []\n",
        "    with fitz.open(fichier) as doc:\n",
        "      for page in doc :\n",
        "        contenus_pages.append(page.getText())\n",
        "    total_pages = len(contenus_pages)\n",
        "    for num_page in range(total_pages) :\n",
        "      i = 0\n",
        "      contenus_pages[num_page] = re.sub(\"\\n\", r\" \", contenus_pages[num_page]) \n",
        "      contenu_page = re.split('!|\\.+|\\?',contenus_pages[num_page])\n",
        "      #print(contenu_page)\n",
        "      for tb in contenu_page :\n",
        "        if len(tb) > 2 :\n",
        "          id = \"PAG_\"+str(num_page)+\"_TB\"+str(i)\n",
        "          dico_id = {\"Page_Num\" : num_page, \"Content\" : tb}\n",
        "          text_blocks[id] = dico_id\n",
        "          i += 1\n",
        "    info_doc = {\"Titre\" : titre, \"Total_Pages\" : total_pages }\n",
        "    jsondic = {\"Infos_Doc\" : info_doc, \"Text_Blocks\" : text_blocks} \n",
        "    with open(os.path.join(destination_dir,titre+\"_texte_structure.json\"), 'w') as jout :\n",
        "      json.dump(jsondic, jout)\n",
        "    print(\"Le texte du document a été sauvegardé dans le fichier \", os.path.join(destination_dir,titre+\"_texte_structure.json\"))\n",
        "\n",
        "\n",
        "  elif fichier.endswith(\".txt\") :\n",
        "    with open(fichier, \"r\") as file_in :\n",
        "      contenu = file_in.read()\n",
        "    \n",
        "    contenu_tbs = re.sub(\"\\n\", r\" \", contenu)\n",
        "    \n",
        "    contenu_tbs = re.split('!|\\.+|\\?',contenu_tbs)\n",
        "    i = 0\n",
        "    for tb in contenu_tbs :\n",
        "      \n",
        "      if len(tb) > 2 :\n",
        "        id = \"TB\"+str(i)\n",
        "        dico_id = {\"Content\" : tb}\n",
        "        text_blocks[id] = dico_id\n",
        "        i += 1\n",
        "    info_doc = {\"Titre\" : titre }\n",
        "    jsondic = {\"Infos_Doc\" : info_doc, \"Text_Blocks\" : text_blocks} \n",
        "    with open(os.path.join(destination_dir,titre+\"_texte_structure.json\"), 'w') as jout :\n",
        "      json.dump(jsondic, jout)\n",
        "    print(\"Le texte du document a été sauvegardé dans le fichier \", os.path.join(destination_dir,titre+\"_texte_structure.json\"))\n",
        "\n",
        "  else : print(fichier, \" : le type de fichier n'est pas supporté \")\n"
      ],
      "execution_count": 4,
      "outputs": [
        {
          "output_type": "stream",
          "name": "stdout",
          "text": [
            "Le texte du document a été sauvegardé dans le fichier  /content/drive/MyDrive/tests/corpusTXT/fe_texte_structure.json\n"
          ]
        }
      ]
    }
  ]
}