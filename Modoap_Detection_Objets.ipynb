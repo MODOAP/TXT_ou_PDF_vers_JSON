{
  "nbformat": 4,
  "nbformat_minor": 0,
  "metadata": {
    "colab": {
      "name": "Nanterre_Modoap_Detection_Objets.ipynb",
      "provenance": [],
      "collapsed_sections": []
    },
    "kernelspec": {
      "name": "python3",
      "display_name": "Python 3"
    }
  },
  "cells": [
    {
      "cell_type": "markdown",
      "metadata": {
        "id": "x1em4rMcjcR_"
      },
      "source": [
        "# ***MODOAP - Détection d'objets dans les images d'un corpus***"
      ]
    },
    {
      "cell_type": "markdown",
      "metadata": {
        "id": "oO83QBzXVbSC"
      },
      "source": [
        "Ce notebook permet de détecter et extraire des objets présents dans les images d'un corpus situé sur un Google Drive.\n",
        "\n",
        "Les objets détectés correspondent aux 80 classes issues du corpus COCO :\n",
        "\n",
        "\n",
        "\n",
        "```\n",
        "# class_names = ['BG', 'person', 'bicycle', 'car', 'motorcycle', 'airplane',\n",
        "               'bus', 'train', 'truck', 'boat', 'traffic light',\n",
        "               'fire hydrant', 'stop sign', 'parking meter', 'bench', 'bird',\n",
        "               'cat', 'dog', 'horse', 'sheep', 'cow', 'elephant', 'bear',\n",
        "               'zebra', 'giraffe', 'backpack', 'umbrella', 'handbag', 'tie',\n",
        "               'suitcase', 'frisbee', 'skis', 'snowboard', 'sports ball',\n",
        "               'kite', 'baseball bat', 'baseball glove', 'skateboard',\n",
        "               'surfboard', 'tennis racket', 'bottle', 'wine glass', 'cup',\n",
        "               'fork', 'knife', 'spoon', 'bowl', 'banana', 'apple',\n",
        "               'sandwich', 'orange', 'broccoli', 'carrot', 'hot dog', 'pizza',\n",
        "               'donut', 'cake', 'chair', 'couch', 'potted plant', 'bed',\n",
        "               'dining table', 'toilet', 'tv', 'laptop', 'mouse', 'remote',\n",
        "               'keyboard', 'cell phone', 'microwave', 'oven', 'toaster',\n",
        "               'sink', 'refrigerator', 'book', 'clock', 'vase', 'scissors',\n",
        "               'teddy bear', 'hair drier', 'toothbrush']\n",
        "```\n",
        "\n",
        "\n",
        "\n",
        "\n",
        "Le mode GPU est nécessaire (Runtime -> Change Runtime Type -> GPU)"
      ]
    },
    {
      "cell_type": "markdown",
      "metadata": {
        "id": "ihzf5ih94aWu"
      },
      "source": [
        "## 0. Connexion à un compte Google Drive et création de l'architecture\n",
        "\n",
        "Nécessite de se connecter à son compte Google Drive et d'entrer un code de vérification.\n",
        "\n",
        "Crée un dossier Outils_Modoap sur le Drive qui servira à stocker les poids utilisés et les objets extraits."
      ]
    },
    {
      "cell_type": "code",
      "metadata": {
        "id": "Zy9TYLWcTd_q",
        "colab": {
          "base_uri": "https://localhost:8080/",
          "height": 34
        },
        "outputId": "7854e3cf-92d6-45db-fe71-5f20f179bcd2"
      },
      "source": [
        "import os\n",
        "from google.colab import drive\n",
        "\n",
        "if not os.path.exists(\"/content/drive/My Drive\"):\n",
        "  drive.mount('/content/drive')\n",
        "else : print(\"Le Drive est déjà monté\")\n",
        "\n",
        "if not os.path.exists(\"/content/drive/My Drive/Outils_Modoap/Detection_Objets\"):\n",
        "  os.makedirs('/content/drive/My Drive/Outils_Modoap/Detection_Objets/Objets_extraits')\n",
        "  os.makedirs('/content/drive/My Drive/Outils_Modoap/Detection_Objets/Poids')\n",
        "  os.makedirs('/content/drive/My Drive/Outils_Modoap/Detection_Objets/Logs')"
      ],
      "execution_count": null,
      "outputs": [
        {
          "output_type": "stream",
          "text": [
            "Mounted at /content/drive\n"
          ],
          "name": "stdout"
        }
      ]
    },
    {
      "cell_type": "markdown",
      "metadata": {
        "id": "X2tGpeGda-WA"
      },
      "source": [
        "## 1. Spécification du corpus\n",
        "\n",
        "Nécessite d'entrer le chemin absolu vers le dossier contenant le corpus sur le drive. \n",
        "La racine du Google Drive est */content/drive/My Drive/*\n",
        "\n",
        "Possibilité de copier/coller le chemin depuis la fenêtre de gauche : *Files -> clic droit sur un dossier -> Copy Path*\n",
        "\n",
        "Exemple de chemin:\n",
        "\n",
        "/content/drive/My Drive/Corpus/corpus_pour_detection/ \n",
        "\n",
        "Ou bien entrer \"exemple\" pour télécharger un corpus de démonstration."
      ]
    },
    {
      "cell_type": "code",
      "metadata": {
        "id": "7KsP2TrBbn7F"
      },
      "source": [
        "dossier_corpus = input(\"Entrer le chemin absolu du dossier contenant le corpus, ou taper \\\"exemple\\\" \")\n",
        "if dossier_corpus == \"exemple\" :\n",
        "  print('je télécharge un corpus')\n",
        "  if not os.path.exists(\"/content/drive/My Drive/Outils_Modoap/Corpus_demonstrations/corpus_detection/\"):\n",
        "    os.makedirs('/content/drive/My Drive/Outils_Modoap/Corpus_demonstrations/corpus_detection/')\n",
        "  %cd /content/drive/My Drive/Outils_Modoap/Corpus_demonstrations/corpus_detection/\n",
        "  !wget https://github.com/MODOAP/corpus_test/releases/download/1/corpus_detection_objets.zip\n",
        "  !7z x ./corpus_detection_objets.zip\n",
        "  os.remove(\"/content/drive/My Drive/Outils_Modoap/Corpus_demonstrations/corpus_detection/corpus_detection_objets.zip\")\n",
        "  dossier_corpus = \"/content/drive/My Drive/Outils_Modoap/Corpus_demonstrations/corpus_detection/\""
      ],
      "execution_count": null,
      "outputs": []
    },
    {
      "cell_type": "markdown",
      "metadata": {
        "id": "BymTg7yJe-6y"
      },
      "source": [
        "## 2. Configuration de l'algorithme"
      ]
    },
    {
      "cell_type": "code",
      "metadata": {
        "id": "Ak-QkjDzmfE_"
      },
      "source": [
        "import os\n",
        "import sys\n",
        "import random\n",
        "import math\n",
        "import numpy as np\n",
        "import skimage.io\n",
        "import matplotlib\n",
        "import matplotlib.pyplot as plt\n",
        "\n",
        "\n",
        "%cd\n",
        "if not os.path.exists(\"/root/Mask_RCNN\"):\n",
        "\n",
        "  !git clone --quiet https://github.com/matterport/Mask_RCNN.git\n",
        "  %cd /root/Mask_RCNN\n",
        "  !pip install -q PyDrive\n",
        "  !pip install -r requirements.txt\n",
        "  !python setup.py install\n",
        "else : print(\"L'algorithme est déjà téléchargé\")\n",
        "\n",
        "##########################################################\n",
        "\n",
        "%cd /root/Mask_RCNN\n",
        "###############################################################\n",
        "%tensorflow_version 1.x\n",
        "!pip install q keras==2.1.5\n",
        "!pip install q keras==2.1.5\n",
        "###############################################################\n",
        "\n",
        "\n",
        "# Root directory of the project\n",
        "ROOT_DIR = os.path.abspath(\"./\")\n",
        "# Import Mask RCNN\n",
        "sys.path.append(ROOT_DIR)  # To find local version of the library\n",
        "from mrcnn import utils\n",
        "import mrcnn.model as modellib\n",
        "from mrcnn import visualize\n",
        "# Import COCO config\n",
        "sys.path.append(os.path.join(ROOT_DIR, \"samples/coco/\"))  # To find local version\n",
        "import coco\n",
        "\n",
        "%matplotlib inline \n",
        "\n",
        "# Directory to save logs and trained model\n",
        "MODEL_DIR = \"/content/drive/My Drive/Outils_Modoap/Detection_Objets/Logs\"\n",
        "\n",
        "# Local path to trained weights file\n",
        "COCO_MODEL_PATH = os.path.join(ROOT_DIR, \"mask_rcnn_coco.h5\")\n",
        "# Download COCO trained weights from Releases if needed\n",
        "if not os.path.exists(COCO_MODEL_PATH):\n",
        "    utils.download_trained_weights(COCO_MODEL_PATH)\n",
        "\n",
        "# Directory of images to run detection on\n",
        "IMAGE_DIR = dossier_corpus\n",
        "\n",
        "###############################################################\n",
        "\n",
        "class InferenceConfig(coco.CocoConfig):\n",
        "    # Set batch size to 1 since we'll be running inference on\n",
        "    # one image at a time. Batch size = GPU_COUNT * IMAGES_PER_GPU\n",
        "    GPU_COUNT = 1\n",
        "    IMAGES_PER_GPU = 1\n",
        "\n",
        "config = InferenceConfig()\n",
        "config.display()\n",
        "\n",
        "###############################################################\n",
        "\n",
        "\n",
        "# Create model object in inference mode.\n",
        "model = modellib.MaskRCNN(mode=\"inference\", model_dir=MODEL_DIR, config=config)\n",
        "\n",
        "# Load weights trained on MS-COCO\n",
        "model.load_weights(COCO_MODEL_PATH, by_name=True)\n",
        "\n",
        "###############################################################\n",
        "\n",
        "# COCO Class names\n",
        "# Index of the class in the list is its ID. For example, to get ID of\n",
        "# the teddy bear class, use: class_names.index('teddy bear')\n",
        "class_names = ['BG', 'person', 'bicycle', 'car', 'motorcycle', 'airplane',\n",
        "               'bus', 'train', 'truck', 'boat', 'traffic light',\n",
        "               'fire hydrant', 'stop sign', 'parking meter', 'bench', 'bird',\n",
        "               'cat', 'dog', 'horse', 'sheep', 'cow', 'elephant', 'bear',\n",
        "               'zebra', 'giraffe', 'backpack', 'umbrella', 'handbag', 'tie',\n",
        "               'suitcase', 'frisbee', 'skis', 'snowboard', 'sports ball',\n",
        "               'kite', 'baseball bat', 'baseball glove', 'skateboard',\n",
        "               'surfboard', 'tennis racket', 'bottle', 'wine glass', 'cup',\n",
        "               'fork', 'knife', 'spoon', 'bowl', 'banana', 'apple',\n",
        "               'sandwich', 'orange', 'broccoli', 'carrot', 'hot dog', 'pizza',\n",
        "               'donut', 'cake', 'chair', 'couch', 'potted plant', 'bed',\n",
        "               'dining table', 'toilet', 'tv', 'laptop', 'mouse', 'remote',\n",
        "               'keyboard', 'cell phone', 'microwave', 'oven', 'toaster',\n",
        "               'sink', 'refrigerator', 'book', 'clock', 'vase', 'scissors',\n",
        "               'teddy bear', 'hair drier', 'toothbrush']"
      ],
      "execution_count": null,
      "outputs": []
    },
    {
      "cell_type": "markdown",
      "metadata": {
        "id": "1dSZpehF_DpH"
      },
      "source": [
        "# 3. Detection sur le corpus\n",
        "\n",
        "Génère le fichier annotations_objets.json dans le dossier contenant le corpus sur le drive.\n",
        "\n",
        "Ce fichier contient les annotations des objets des images.\n",
        "\n",
        "Si ce fichier est présent dans le dossier du corpus car il a déjà été généré, cette cellule peut être passée. "
      ]
    },
    {
      "cell_type": "code",
      "metadata": {
        "id": "0fkCX6xz-l3a"
      },
      "source": [
        "import glob\n",
        "import cv2\n",
        "import json\n",
        "dossier_corpus = dossier_corpus + \"/\"\n",
        "corpus = [image for image in glob.glob(dossier_corpus+\"/*.*\")]\n",
        "dicocorpus = {}\n",
        "print(\"taille du corpus : \", len(corpus))\n",
        "for nomfichier in corpus : \n",
        "  image = cv2.imread(nomfichier)\n",
        "  results = model.detect([image], verbose=0)\n",
        "  r = results[0]\n",
        "  listeobjets = [vecteur for vecteur in r[\"rois\"]]\n",
        "  dicoimage={}\n",
        "\n",
        "  visualize.display_instances(image, r['rois'], r['masks'], r['class_ids'], \n",
        "                              class_names, r['scores'])\n",
        "\n",
        "  for i in range(len(r[\"rois\"])) :\n",
        "    vecteur_region = [str(coord) for coord in listeobjets[i]]\n",
        "    classe = class_names[r[\"class_ids\"][i]]\n",
        "    score = str(r[\"scores\"][i])\n",
        "    dicoobjet = {\"regions\":vecteur_region, \"classe\" : classe, \"score\":score}\n",
        "    dicoimage[\"objet\"+str(i)] = dicoobjet\n",
        "  dicocorpus[nomfichier] = dicoimage\n",
        "\n",
        "with open(os.path.join(dossier_corpus, \"annotations_objets.json\"), \"w\") as dic :\n",
        "  json.dump(dicocorpus, dic)"
      ],
      "execution_count": null,
      "outputs": []
    },
    {
      "cell_type": "markdown",
      "metadata": {
        "id": "gWznrK_A8UQP"
      },
      "source": [
        "## 4. Extraction des objets à partir du fichier d'annotation sur le drive\n",
        "\n",
        "Les objets extraits sont stockés sur le drive dans /content/drive/My Drive/Outils_Modoap/Detection_Objets/Objets_extraits/ "
      ]
    },
    {
      "cell_type": "code",
      "metadata": {
        "id": "HDy1QTvvgKEg"
      },
      "source": [
        "import json\n",
        "from google.colab.patches import cv2_imshow\n",
        "\n",
        "with open(os.path.join(dossier_corpus, \"annotations_objets.json\"), \"r\") as mondic :\n",
        "  dicocorpus2 = json.load(mondic)\n",
        "\n",
        "for nomfichier in dicocorpus2 :\n",
        "  compteur = 0\n",
        "  nomfichier2 = str(nomfichier.split(\"/\")[-1])\n",
        "  image = cv2.imread(nomfichier)\n",
        "  for objet in dicocorpus2[nomfichier].values():\n",
        "    y1 = int(objet[\"regions\"][0])\n",
        "    y2 = int(objet[\"regions\"][2])\n",
        "    x1 = int(objet[\"regions\"][1])\n",
        "    x2 = int(objet[\"regions\"][3])\n",
        "    imagecropped = image[y1:y2, x1:x2] # [Y1:Y2, X1:X2] Le vecteur est sous forme [Y1 X1 Y2 X2]\n",
        "    filnam = \"/content/drive/My Drive/Outils_Modoap/Detection_Objets/Objets_extraits/\"+str(nomfichier2)+\"_objet\"+str(compteur)+\"_\"+str(objet[\"classe\"])+\".jpg\"\n",
        "    print(filnam)\n",
        "    cv2.imwrite(filnam, imagecropped)\n",
        "   # cv2_imshow(imagecropped)\n",
        "    compteur += 1\n"
      ],
      "execution_count": null,
      "outputs": []
    },
    {
      "cell_type": "code",
      "metadata": {
        "id": "mMfkh9EP_Aqy"
      },
      "source": [
        ""
      ],
      "execution_count": null,
      "outputs": []
    }
  ]
}